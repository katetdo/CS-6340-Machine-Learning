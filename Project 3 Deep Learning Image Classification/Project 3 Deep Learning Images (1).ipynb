{
 "cells": [
  {
   "cell_type": "code",
   "execution_count": 1,
   "id": "716f4de5",
   "metadata": {},
   "outputs": [],
   "source": [
    "import warnings\n",
    "warnings.filterwarnings('ignore')\n",
    "import numpy as np\n",
    "import matplotlib.pyplot as plt\n",
    "import seaborn as sns\n",
    "import random\n",
    "import tensorflow as tf\n",
    "from tensorflow import keras\n",
    "from tensorflow.keras import layers, models\n",
    "from tensorflow.keras import activations\n",
    "from tensorflow.keras import losses\n",
    "from sklearn.metrics import accuracy_score, confusion_matrix\n",
    "\n",
    "from tensorflow.keras.layers import Conv2D, Dense, Flatten, MaxPooling2D, Dropout\n",
    "\n",
    "import tensorflow.keras.backend as K"
   ]
  },
  {
   "cell_type": "code",
   "execution_count": 2,
   "id": "da4780e9",
   "metadata": {},
   "outputs": [],
   "source": [
    "train_img = np.load('kmnist-train-imgs.npz')\n",
    "train_labels = np.load('kmnist-train-labels.npz')\n",
    "test_img = np.load('kmnist-test-imgs.npz')\n",
    "test_labels = np.load('kmnist-test-labels.npz')\n",
    "\n",
    "train_img = train_img['arr_0']\n",
    "train_labels = train_labels['arr_0']\n",
    "test_img = test_img['arr_0']\n",
    "test_labels = test_labels['arr_0']"
   ]
  },
  {
   "cell_type": "code",
   "execution_count": 3,
   "id": "6073d8ab",
   "metadata": {},
   "outputs": [
    {
     "data": {
      "image/png": "[encoded data removed]",
      "text/plain": [
       "<Figure size 432x230.4 with 3 Axes>"
      ]
     },
     "metadata": {
      "needs_background": "light"
     },
     "output_type": "display_data"
    }
   ],
   "source": [
    "#random_image = random.randint(0, 5999)\n",
    "#train_img[random_image] # I thought it'd be fun to see the diff characters\n",
    "arr = np.concatenate((train_img[0], train_img[1], test_img[2]))\n",
    "H = arr \n",
    "\n",
    "fig = plt.figure(figsize=(6, 3.2))\n",
    "\n",
    "ax = fig.add_subplot(111)\n",
    "ax.set_title('colorMap')\n",
    "plt.imshow(H)\n",
    "ax.set_aspect('equal')\n",
    "\n",
    "cax = fig.add_axes([0.12, 0.1, 0.78, 0.8])\n",
    "cax.get_xaxis().set_visible(False)\n",
    "cax.get_yaxis().set_visible(False)\n",
    "cax.patch.set_alpha(0)\n",
    "cax.set_frame_on(False)\n",
    "plt.colorbar(orientation='vertical')\n",
    "plt.show()"
   ]
  },
  {
   "cell_type": "code",
   "execution_count": 4,
   "id": "f4196d5d",
   "metadata": {},
   "outputs": [],
   "source": [
    "train_img = tf.reshape(train_img, [60000, 28, 28, 1])\n",
    "test_img = tf.reshape(test_img, [10000, 28, 28, 1])\n",
    "\n",
    "train_img = tf.cast(train_img, tf.float32)\n",
    "test_img = tf.cast(test_img, tf.float32)\n",
    "\n",
    "#train_img = 1/255\n",
    "#test_img = 1/255"
   ]
  },
  {
   "cell_type": "code",
   "execution_count": 5,
   "id": "d232cf61",
   "metadata": {},
   "outputs": [
    {
     "name": "stdout",
     "output_type": "stream",
     "text": [
      "WARNING:tensorflow:From /usr/local/anaconda3/lib/python3.7/site-packages/tensorflow/python/ops/init_ops.py:1251: calling VarianceScaling.__init__ (from tensorflow.python.ops.init_ops) with dtype is deprecated and will be removed in a future version.\n",
      "Instructions for updating:\n",
      "Call initializer instance with the dtype argument instead of passing it to the constructor\n"
     ]
    }
   ],
   "source": [
    "model = keras.Sequential([\n",
    "       # tf.keras.layers.InputLayer(input_shape=(28, 28, 1)),\n",
    "        layers.Flatten(input_shape = train_img[0].shape),\n",
    "        layers.Dense(16, activation=\"relu\", input_shape = train_img[0].shape),\n",
    "        layers.Dense(16, activation=\"relu\"),\n",
    "        layers.Dense(16, activation=\"relu\"),\n",
    "        layers.Dense(10, activation=tf.keras.activations.softmax)\n",
    "    ])\n",
    "#model.add(tf.keras.layers.Rescaling())\n",
    "model.add(Flatten())\n",
    "\n",
    "model.compile(loss='sparse_categorical_crossentropy', optimizer='adam', metrics=['accuracy'])"
   ]
  },
  {
   "cell_type": "code",
   "execution_count": null,
   "id": "41197b3a",
   "metadata": {
    "scrolled": true
   },
   "outputs": [
    {
     "name": "stdout",
     "output_type": "stream",
     "text": [
      "WARNING:tensorflow:From /usr/local/anaconda3/lib/python3.7/site-packages/tensorflow/python/ops/math_grad.py:1250: add_dispatch_support.<locals>.wrapper (from tensorflow.python.ops.array_ops) is deprecated and will be removed in a future version.\n",
      "Instructions for updating:\n",
      "Use tf.where in 2.0, which has the same broadcast rule as np.where\n"
     ]
    },
    {
     "name": "stderr",
     "output_type": "stream",
     "text": [
      "2023-05-09 14:08:38.995131: I tensorflow/core/platform/cpu_feature_guard.cc:142] Your CPU supports instructions that this TensorFlow binary was not compiled to use: SSE4.1 SSE4.2 AVX AVX2 AVX512F FMA\n",
      "2023-05-09 14:08:39.004182: I tensorflow/core/platform/profile_utils/cpu_utils.cc:94] CPU Frequency: 2600000000 Hz\n",
      "2023-05-09 14:08:39.005222: I tensorflow/compiler/xla/service/service.cc:168] XLA service 0x5590d5d50750 executing computations on platform Host. Devices:\n",
      "2023-05-09 14:08:39.005243: I tensorflow/compiler/xla/service/service.cc:175]   StreamExecutor device (0): <undefined>, <undefined>\n",
      "2023-05-09 14:08:39.006861: I tensorflow/stream_executor/platform/default/dso_loader.cc:42] Successfully opened dynamic library libcuda.so.1\n",
      "2023-05-09 14:08:39.699551: I tensorflow/compiler/xla/service/service.cc:168] XLA service 0x5590d49a3e20 executing computations on platform CUDA. Devices:\n",
      "2023-05-09 14:08:39.699602: I tensorflow/compiler/xla/service/service.cc:175]   StreamExecutor device (0): Tesla T4, Compute Capability 7.5\n",
      "2023-05-09 14:08:39.699613: I tensorflow/compiler/xla/service/service.cc:175]   StreamExecutor device (1): Tesla T4, Compute Capability 7.5\n",
      "2023-05-09 14:08:39.699621: I tensorflow/compiler/xla/service/service.cc:175]   StreamExecutor device (2): Tesla T4, Compute Capability 7.5\n",
      "2023-05-09 14:08:39.703250: I tensorflow/core/common_runtime/gpu/gpu_device.cc:1640] Found device 0 with properties: \n",
      "name: Tesla T4 major: 7 minor: 5 memoryClockRate(GHz): 1.59\n",
      "pciBusID: 0000:60:00.0\n",
      "2023-05-09 14:08:39.704755: I tensorflow/core/common_runtime/gpu/gpu_device.cc:1640] Found device 1 with properties: \n",
      "name: Tesla T4 major: 7 minor: 5 memoryClockRate(GHz): 1.59\n",
      "pciBusID: 0000:61:00.0\n",
      "2023-05-09 14:08:39.706245: I tensorflow/core/common_runtime/gpu/gpu_device.cc:1640] Found device 2 with properties: \n",
      "name: Tesla T4 major: 7 minor: 5 memoryClockRate(GHz): 1.59\n",
      "pciBusID: 0000:da:00.0\n",
      "2023-05-09 14:08:39.706658: I tensorflow/stream_executor/platform/default/dso_loader.cc:42] Successfully opened dynamic library libcudart.so.10.1\n",
      "2023-05-09 14:08:39.709425: I tensorflow/stream_executor/platform/default/dso_loader.cc:42] Successfully opened dynamic library libcublas.so.10\n",
      "2023-05-09 14:08:39.712031: I tensorflow/stream_executor/platform/default/dso_loader.cc:42] Successfully opened dynamic library libcufft.so.10\n",
      "2023-05-09 14:08:39.712548: I tensorflow/stream_executor/platform/default/dso_loader.cc:42] Successfully opened dynamic library libcurand.so.10\n",
      "2023-05-09 14:08:39.714434: I tensorflow/stream_executor/platform/default/dso_loader.cc:42] Successfully opened dynamic library libcusolver.so.10\n",
      "2023-05-09 14:08:39.715013: I tensorflow/stream_executor/platform/default/dso_loader.cc:42] Successfully opened dynamic library libcusparse.so.10\n",
      "2023-05-09 14:08:39.717331: I tensorflow/stream_executor/platform/default/dso_loader.cc:42] Successfully opened dynamic library libcudnn.so.7\n",
      "2023-05-09 14:08:39.725444: I tensorflow/core/common_runtime/gpu/gpu_device.cc:1763] Adding visible gpu devices: 0, 1, 2\n",
      "2023-05-09 14:08:39.725487: I tensorflow/stream_executor/platform/default/dso_loader.cc:42] Successfully opened dynamic library libcudart.so.10.1\n",
      "2023-05-09 14:08:39.729582: I tensorflow/core/common_runtime/gpu/gpu_device.cc:1181] Device interconnect StreamExecutor with strength 1 edge matrix:\n",
      "2023-05-09 14:08:39.729594: I tensorflow/core/common_runtime/gpu/gpu_device.cc:1187]      0 1 2 \n",
      "2023-05-09 14:08:39.729598: I tensorflow/core/common_runtime/gpu/gpu_device.cc:1200] 0:   N Y Y \n",
      "2023-05-09 14:08:39.729601: I tensorflow/core/common_runtime/gpu/gpu_device.cc:1200] 1:   Y N Y \n",
      "2023-05-09 14:08:39.729603: I tensorflow/core/common_runtime/gpu/gpu_device.cc:1200] 2:   Y Y N \n",
      "2023-05-09 14:08:39.735058: I tensorflow/core/common_runtime/gpu/gpu_device.cc:1326] Created TensorFlow device (/job:localhost/replica:0/task:0/device:GPU:0 with 146 MB memory) -> physical GPU (device: 0, name: Tesla T4, pci bus id: 0000:60:00.0, compute capability: 7.5)\n",
      "2023-05-09 14:08:39.737053: I tensorflow/core/common_runtime/gpu/gpu_device.cc:1326] Created TensorFlow device (/job:localhost/replica:0/task:0/device:GPU:1 with 14026 MB memory) -> physical GPU (device: 1, name: Tesla T4, pci bus id: 0000:61:00.0, compute capability: 7.5)\n",
      "2023-05-09 14:08:39.738857: I tensorflow/core/common_runtime/gpu/gpu_device.cc:1326] Created TensorFlow device (/job:localhost/replica:0/task:0/device:GPU:2 with 14026 MB memory) -> physical GPU (device: 2, name: Tesla T4, pci bus id: 0000:da:00.0, compute capability: 7.5)\n",
      "2023-05-09 14:08:39.975551: E tensorflow/stream_executor/cuda/cuda_driver.cc:828] failed to allocate 146.88M (154009600 bytes) from device: CUDA_ERROR_OUT_OF_MEMORY: out of memory\n"
     ]
    }
   ],
   "source": [
    "# won't work without the steps per epoch?\n",
    "# model.fit(epochs=10)\n",
    "history = model.fit(x = train_img, y = train_labels, batch_size = 128, steps_per_epoch = 1, epochs=1000) # 100000 \n",
    "avg_acc = 0\n",
    "avg_loss = 0\n",
    "for i, k in zip(history.history['loss'], history.history['acc']):\n",
    "    avg_loss = i + avg_loss\n",
    "    avg_acc = k + avg_acc\n",
    "\n",
    "print('avg_loss = ', avg_loss / len(history.history['loss']))\n",
    "print('avg_acc = ', avg_acc / len(history.history['acc']))\n",
    "print(\"min loss: \", min(history.history['loss']))\n",
    "print(\"max acc: \", max(history.history['acc']))"
   ]
  },
  {
   "cell_type": "code",
   "execution_count": 8,
   "id": "d7544d19",
   "metadata": {
    "scrolled": true
   },
   "outputs": [
    {
     "name": "stdout",
     "output_type": "stream",
     "text": [
      "1/1 [==============================] - 1s 580ms/step - loss: 1.6625 - acc: 0.5564\n",
      "predictions shape: (10000, 10)\n",
      "Accuracy Score:  0.5564\n",
      "Confusion Matrix: \n",
      " [[709   3   7   4  34   4   4   9  18  10]\n",
      " [ 35 290  56  19 109  32  95 172  50  69]\n",
      " [ 10  75 558  85  59 333 146  52  56  64]\n",
      " [ 22   9  30 724  20  12   8  11  31   4]\n",
      " [ 67  43  48  19 639  15  19  72   6  92]\n",
      " [ 54   5  28  16   3 370   7  15  13  11]\n",
      " [  4  82  86  11  33  42 575  11  31  16]\n",
      " [ 44   0  19   6  17  10   2 448   2  28]\n",
      " [ 47 483 164 116  71 181 143 205 788 243]\n",
      " [  8  10   4   0  15   1   1   5   5 463]]\n"
     ]
    }
   ],
   "source": [
    "results = model.evaluate(test_img, test_labels, batch_size = 128, steps = 1)\n",
    "predictions = model.predict(test_img, steps = 1)\n",
    "print(\"predictions shape:\", predictions.shape)\n",
    "new_pred = []\n",
    "pred = predictions.tolist()\n",
    "for i in pred:\n",
    "    new_pred.append(i.index(max(i)))\n",
    "\n",
    "print(\"Accuracy Score: \", accuracy_score(new_pred, test_labels))\n",
    "print(\"Confusion Matrix: \\n\", confusion_matrix(new_pred, test_labels))"
   ]
  },
  {
   "cell_type": "code",
   "execution_count": 6,
   "id": "09884750",
   "metadata": {},
   "outputs": [
    {
     "name": "stdout",
     "output_type": "stream",
     "text": [
      "Model: \"sequential_1\"\n",
      "_________________________________________________________________\n",
      "Layer (type)                 Output Shape              Param #   \n",
      "=================================================================\n",
      "conv2d (Conv2D)              (None, 28, 28, 16)        32        \n",
      "_________________________________________________________________\n",
      "max_pooling2d (MaxPooling2D) (None, 14, 14, 16)        0         \n",
      "_________________________________________________________________\n",
      "conv2d_1 (Conv2D)            (None, 14, 14, 16)        272       \n",
      "_________________________________________________________________\n",
      "flatten_2 (Flatten)          (None, 3136)              0         \n",
      "_________________________________________________________________\n",
      "dense_4 (Dense)              (None, 16)                50192     \n",
      "_________________________________________________________________\n",
      "dense_5 (Dense)              (None, 16)                272       \n",
      "_________________________________________________________________\n",
      "dense_6 (Dense)              (None, 10)                170       \n",
      "=================================================================\n",
      "Total params: 50,938\n",
      "Trainable params: 50,938\n",
      "Non-trainable params: 0\n",
      "_________________________________________________________________\n"
     ]
    }
   ],
   "source": [
    "model = models.Sequential()\n",
    "model.add(layers.Conv2D(16, (1, 1), activation='relu', input_shape=train_img[0].shape))\n",
    "model.add(layers.MaxPooling2D((2, 2))) # (1,1) (2, 2)\n",
    "model.add(layers.Conv2D(16, (1, 1), activation='relu'))\n",
    "model.add(layers.Flatten())\n",
    "model.add(layers.Dense(16, activation='relu'))\n",
    "model.add(layers.Dense(16, activation='relu'))\n",
    "model.add(layers.Dense(10, activation=tf.keras.activations.softmax))\n",
    "model.compile(loss='sparse_categorical_crossentropy', optimizer='adam', metrics=['accuracy'])\n",
    "model.summary()"
   ]
  },
  {
   "cell_type": "code",
   "execution_count": null,
   "id": "43983322",
   "metadata": {
    "scrolled": true
   },
   "outputs": [
    {
     "name": "stderr",
     "output_type": "stream",
     "text": [
      "2023-05-09 14:09:10.776519: I tensorflow/core/platform/cpu_feature_guard.cc:142] Your CPU supports instructions that this TensorFlow binary was not compiled to use: SSE4.1 SSE4.2 AVX AVX2 AVX512F FMA\n",
      "2023-05-09 14:09:10.785629: I tensorflow/core/platform/profile_utils/cpu_utils.cc:94] CPU Frequency: 2600000000 Hz\n",
      "2023-05-09 14:09:10.786712: I tensorflow/compiler/xla/service/service.cc:168] XLA service 0x560bb875eb80 executing computations on platform Host. Devices:\n",
      "2023-05-09 14:09:10.786731: I tensorflow/compiler/xla/service/service.cc:175]   StreamExecutor device (0): <undefined>, <undefined>\n",
      "2023-05-09 14:09:10.788349: I tensorflow/stream_executor/platform/default/dso_loader.cc:42] Successfully opened dynamic library libcuda.so.1\n",
      "2023-05-09 14:09:11.445230: I tensorflow/compiler/xla/service/service.cc:168] XLA service 0x560bba7da670 executing computations on platform CUDA. Devices:\n",
      "2023-05-09 14:09:11.445287: I tensorflow/compiler/xla/service/service.cc:175]   StreamExecutor device (0): Tesla T4, Compute Capability 7.5\n",
      "2023-05-09 14:09:11.445298: I tensorflow/compiler/xla/service/service.cc:175]   StreamExecutor device (1): Tesla T4, Compute Capability 7.5\n",
      "2023-05-09 14:09:11.445305: I tensorflow/compiler/xla/service/service.cc:175]   StreamExecutor device (2): Tesla T4, Compute Capability 7.5\n",
      "2023-05-09 14:09:11.450224: I tensorflow/core/common_runtime/gpu/gpu_device.cc:1640] Found device 0 with properties: \n",
      "name: Tesla T4 major: 7 minor: 5 memoryClockRate(GHz): 1.59\n",
      "pciBusID: 0000:60:00.0\n",
      "2023-05-09 14:09:11.452988: I tensorflow/core/common_runtime/gpu/gpu_device.cc:1640] Found device 1 with properties: \n",
      "name: Tesla T4 major: 7 minor: 5 memoryClockRate(GHz): 1.59\n",
      "pciBusID: 0000:61:00.0\n",
      "2023-05-09 14:09:11.454795: I tensorflow/core/common_runtime/gpu/gpu_device.cc:1640] Found device 2 with properties: \n",
      "name: Tesla T4 major: 7 minor: 5 memoryClockRate(GHz): 1.59\n",
      "pciBusID: 0000:da:00.0\n",
      "2023-05-09 14:09:11.455222: I tensorflow/stream_executor/platform/default/dso_loader.cc:42] Successfully opened dynamic library libcudart.so.10.1\n",
      "2023-05-09 14:09:11.457898: I tensorflow/stream_executor/platform/default/dso_loader.cc:42] Successfully opened dynamic library libcublas.so.10\n",
      "2023-05-09 14:09:11.459213: I tensorflow/stream_executor/platform/default/dso_loader.cc:42] Successfully opened dynamic library libcufft.so.10\n",
      "2023-05-09 14:09:11.459454: I tensorflow/stream_executor/platform/default/dso_loader.cc:42] Successfully opened dynamic library libcurand.so.10\n",
      "2023-05-09 14:09:11.460591: I tensorflow/stream_executor/platform/default/dso_loader.cc:42] Successfully opened dynamic library libcusolver.so.10\n",
      "2023-05-09 14:09:11.461180: I tensorflow/stream_executor/platform/default/dso_loader.cc:42] Successfully opened dynamic library libcusparse.so.10\n",
      "2023-05-09 14:09:11.463691: I tensorflow/stream_executor/platform/default/dso_loader.cc:42] Successfully opened dynamic library libcudnn.so.7\n",
      "2023-05-09 14:09:11.480986: I tensorflow/core/common_runtime/gpu/gpu_device.cc:1763] Adding visible gpu devices: 0, 1, 2\n",
      "2023-05-09 14:09:11.481045: I tensorflow/stream_executor/platform/default/dso_loader.cc:42] Successfully opened dynamic library libcudart.so.10.1\n",
      "2023-05-09 14:09:11.489950: I tensorflow/core/common_runtime/gpu/gpu_device.cc:1181] Device interconnect StreamExecutor with strength 1 edge matrix:\n",
      "2023-05-09 14:09:11.489967: I tensorflow/core/common_runtime/gpu/gpu_device.cc:1187]      0 1 2 \n",
      "2023-05-09 14:09:11.489972: I tensorflow/core/common_runtime/gpu/gpu_device.cc:1200] 0:   N Y Y \n",
      "2023-05-09 14:09:11.489975: I tensorflow/core/common_runtime/gpu/gpu_device.cc:1200] 1:   Y N Y \n",
      "2023-05-09 14:09:11.489991: I tensorflow/core/common_runtime/gpu/gpu_device.cc:1200] 2:   Y Y N \n",
      "2023-05-09 14:09:11.495657: I tensorflow/core/common_runtime/gpu/gpu_device.cc:1326] Created TensorFlow device (/job:localhost/replica:0/task:0/device:GPU:0 with 146 MB memory) -> physical GPU (device: 0, name: Tesla T4, pci bus id: 0000:60:00.0, compute capability: 7.5)\n",
      "2023-05-09 14:09:11.497752: I tensorflow/core/common_runtime/gpu/gpu_device.cc:1326] Created TensorFlow device (/job:localhost/replica:0/task:0/device:GPU:1 with 14026 MB memory) -> physical GPU (device: 1, name: Tesla T4, pci bus id: 0000:61:00.0, compute capability: 7.5)\n",
      "2023-05-09 14:09:11.499591: I tensorflow/core/common_runtime/gpu/gpu_device.cc:1326] Created TensorFlow device (/job:localhost/replica:0/task:0/device:GPU:2 with 14026 MB memory) -> physical GPU (device: 2, name: Tesla T4, pci bus id: 0000:da:00.0, compute capability: 7.5)\n",
      "2023-05-09 14:09:11.755137: E tensorflow/stream_executor/cuda/cuda_driver.cc:828] failed to allocate 146.88M (154009600 bytes) from device: CUDA_ERROR_OUT_OF_MEMORY: out of memory\n"
     ]
    }
   ],
   "source": [
    "# won't work without the steps per epoch?\n",
    "# model.fit(epochs=10)\n",
    "history = model.fit(x = train_img, y = train_labels, batch_size = 128, steps_per_epoch = 1, epochs=1000) # 100000 \n",
    "avg_acc = 0\n",
    "avg_loss = 0\n",
    "for i, k in zip(history.history['loss'], history.history['acc']):\n",
    "    avg_loss = i + avg_loss\n",
    "    avg_acc = k + avg_acc\n",
    "\n",
    "print('avg_loss = ', avg_loss / len(history.history['loss']))\n",
    "print('avg_acc = ', avg_acc / len(history.history['acc']))\n",
    "print(\"min loss: \", min(history.history['loss']))\n",
    "print(\"max acc: \", max(history.history['acc']))"
   ]
  }
 ],
 "metadata": {
  "kernelspec": {
   "display_name": "Python 3 (ipykernel)",
   "language": "python",
   "name": "python3"
  },
  "language_info": {
   "codemirror_mode": {
    "name": "ipython",
    "version": 3
   },
   "file_extension": ".py",
   "mimetype": "text/x-python",
   "name": "python",
   "nbconvert_exporter": "python",
   "pygments_lexer": "ipython3",
   "version": "3.7.13"
  }
 },
 "nbformat": 4,
 "nbformat_minor": 5
}
